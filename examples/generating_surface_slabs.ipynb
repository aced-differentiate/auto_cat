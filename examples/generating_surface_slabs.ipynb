{
 "cells": [
  {
   "cell_type": "code",
   "execution_count": 1,
   "id": "319554e9",
   "metadata": {},
   "outputs": [],
   "source": [
    "from autocat.surface import generate_surface_structures"
   ]
  },
  {
   "cell_type": "markdown",
   "id": "3bbcebd9",
   "metadata": {},
   "source": [
    "In this tutorial we show how to generate slabs using `AutoCat`"
   ]
  },
  {
   "cell_type": "code",
   "execution_count": 2,
   "id": "6d42c7dc",
   "metadata": {},
   "outputs": [],
   "source": [
    "slab_dictionary = generate_surface_structures(\n",
    "    species_list = [\"Pt\", \"Fe\", \"Ru\"],\n",
    "    facets = {\"Pt\": [\"100\"], \"Fe\": [\"111\"]}, # If we want to specify only specific facets\n",
    "    supercell_dim = (2,2,5), # dimensions of the supercell\n",
    "    default_lat_param_lib = \"pbe_pw\", # where default lattice parameters are pulled from\n",
    "    vacuum = 10.,\n",
    "    n_fixed_layers = 3, # fixes bottom 3 layers\n",
    "    write_to_disk = False # if we want to write the slabs to disk in the AutoCat directory format\n",
    ")"
   ]
  },
  {
   "cell_type": "markdown",
   "id": "1818f3f0",
   "metadata": {},
   "source": [
    "This generates a dictionary containing the structures of the slabs. The organization of this dictionary is as follows:\n",
    "\n",
    "- Species\n",
    "    - Crystal Structure/Facet\n",
    "        - `ase.Atoms` structure\n",
    "        - Path to structure file (in the `ase.traj` format)"
   ]
  },
  {
   "cell_type": "markdown",
   "id": "d49b437a",
   "metadata": {},
   "source": [
    "Thus, going layer by layer for this example, the first keys correspond to:"
   ]
  },
  {
   "cell_type": "code",
   "execution_count": 3,
   "id": "91f530b4",
   "metadata": {},
   "outputs": [
    {
     "name": "stdout",
     "output_type": "stream",
     "text": [
      "dict_keys(['Pt', 'Fe', 'Ru'])\n"
     ]
    }
   ],
   "source": [
    "print(slab_dictionary.keys())"
   ]
  },
  {
   "cell_type": "markdown",
   "id": "7c4a89fd",
   "metadata": {},
   "source": [
    "Continuing down `Pt` for example, the next level is then:"
   ]
  },
  {
   "cell_type": "code",
   "execution_count": 4,
   "id": "17fb6812",
   "metadata": {},
   "outputs": [
    {
     "name": "stdout",
     "output_type": "stream",
     "text": [
      "dict_keys(['fcc100'])\n"
     ]
    }
   ],
   "source": [
    "print(slab_dictionary[\"Pt\"].keys())"
   ]
  },
  {
   "cell_type": "markdown",
   "id": "8521948b",
   "metadata": {},
   "source": [
    "Going down another level, we get both the `ase.Atoms` structure object as well as the file location. Since we didn't write to disk, the latter returns `None`"
   ]
  },
  {
   "cell_type": "code",
   "execution_count": 5,
   "id": "db7b9248",
   "metadata": {},
   "outputs": [
    {
     "name": "stdout",
     "output_type": "stream",
     "text": [
      "Atoms(symbols='Pt20', pbc=[True, True, False], cell=[5.612606335552851, 5.612606335552851, 27.937424], tags=..., constraint=FixAtoms(indices=[0, 1, 2, 3, 4, 5, 6, 7, 8, 9, 10, 11]))\n"
     ]
    }
   ],
   "source": [
    "print(slab_dictionary[\"Pt\"][\"fcc100\"][\"structure\"])"
   ]
  },
  {
   "cell_type": "code",
   "execution_count": 6,
   "id": "f9d94169",
   "metadata": {},
   "outputs": [
    {
     "name": "stdout",
     "output_type": "stream",
     "text": [
      "None\n"
     ]
    }
   ],
   "source": [
    "print(slab_dictionary[\"Pt\"][\"fcc100\"][\"traj_file_path\"])"
   ]
  }
 ],
 "metadata": {
  "kernelspec": {
   "display_name": "Python 3",
   "language": "python",
   "name": "python3"
  },
  "language_info": {
   "codemirror_mode": {
    "name": "ipython",
    "version": 3
   },
   "file_extension": ".py",
   "mimetype": "text/x-python",
   "name": "python",
   "nbconvert_exporter": "python",
   "pygments_lexer": "ipython3",
   "version": "3.7.9"
  },
  "toc": {
   "base_numbering": 1,
   "nav_menu": {},
   "number_sections": true,
   "sideBar": true,
   "skip_h1_title": false,
   "title_cell": "Table of Contents",
   "title_sidebar": "Contents",
   "toc_cell": false,
   "toc_position": {},
   "toc_section_display": true,
   "toc_window_display": false
  }
 },
 "nbformat": 4,
 "nbformat_minor": 5
}
