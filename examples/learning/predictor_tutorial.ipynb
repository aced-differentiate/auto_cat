{
 "cells": [
  {
   "cell_type": "code",
   "execution_count": 1,
   "id": "cdcaeeef",
   "metadata": {},
   "outputs": [],
   "source": [
    "import numpy as np\n",
    "\n",
    "from sklearn.gaussian_process import GaussianProcessRegressor\n",
    "\n",
    "from autocat.adsorption import place_adsorbate\n",
    "from autocat.surface import generate_surface_structures\n",
    "from autocat.perturbations import generate_perturbed_dataset\n",
    "from autocat.learning.predictors import AutoCatStructureCorrector"
   ]
  },
  {
   "cell_type": "markdown",
   "id": "42ad423a",
   "metadata": {},
   "source": [
    "In this tutorial we show how to use the AutoCatStructureCorrector for both training on relaxed structures and predicting corrections to initial structure guesses"
   ]
  },
  {
   "cell_type": "markdown",
   "id": "37fb7a41",
   "metadata": {},
   "source": [
    "# Creating an AutoCatStructureCorrector object"
   ]
  },
  {
   "cell_type": "markdown",
   "id": "053de3bb",
   "metadata": {},
   "source": [
    "Let's start with creating our AutoCatStructureCorrector object"
   ]
  },
  {
   "cell_type": "code",
   "execution_count": 2,
   "id": "78ebf3b3",
   "metadata": {},
   "outputs": [],
   "source": [
    "acsc = AutoCatStructureCorrector(\n",
    "    model_class = GaussianProcessRegressor, # regressor model class\n",
    "    structure_featurizer=\"sine_matrix\",\n",
    "    adsorbate_featurizer=\"soap\",\n",
    "    adsorbate_featurization_kwargs={\"rcut\": 5.0, \"nmax\": 8, \"lmax\": 6},\n",
    "    refine_structures = True,\n",
    "    maximum_structure_size = None,\n",
    "    maximum_adsorbate_size = None,\n",
    ")"
   ]
  },
  {
   "cell_type": "markdown",
   "id": "baa10924",
   "metadata": {},
   "source": [
    "The model class provided should have fit and predict (with return_std) methods. The AutoCatStructureCorrector class behaves similarly to sci-kit learn regressor objects with fit, predict and score methods."
   ]
  },
  {
   "cell_type": "markdown",
   "id": "33d69603",
   "metadata": {},
   "source": [
    "# Generating Perturbed Structure Datasets"
   ]
  },
  {
   "cell_type": "markdown",
   "id": "9930927d",
   "metadata": {},
   "source": [
    "Before we can demonstrate the capabilities of the AutoCatStructureCorrector class, we need to create a perturbed dataset from given base structures. These base structures would typically be already relaxed with DFT. For simplicity let's consider a single base structure, which would correspond to an interpolative prediction on the surface, generated directly by AutoCat (in practice this would ideally be relaxed before use)"
   ]
  },
  {
   "cell_type": "code",
   "execution_count": 3,
   "id": "225e7954",
   "metadata": {},
   "outputs": [],
   "source": [
    "sub = generate_surface_structures([\"Pd\"], facets={\"Pd\": [\"100\"]})[\"Pd\"][\"fcc100\"][\n",
    "    \"structure\"\n",
    "]\n",
    "base_struct = place_adsorbate(sub, \"CO\")[\"custom\"][\"structure\"]"
   ]
  },
  {
   "cell_type": "markdown",
   "id": "4ea5e3f3",
   "metadata": {},
   "source": [
    "Now that we have the base structure, we can now perturb it to create the dataset."
   ]
  },
  {
   "cell_type": "code",
   "execution_count": 4,
   "id": "42d1ffe5",
   "metadata": {},
   "outputs": [],
   "source": [
    "train_set = generate_perturbed_dataset(\n",
    "    [base_struct],\n",
    "    num_of_perturbations=20,\n",
    "    minimum_perturbation_distance = 0.01,\n",
    "    maximum_perturbation_distance = 0.75,\n",
    "    maximum_adsorbate_size = None,\n",
    ")\n",
    "\n",
    "# separating out the corrected structures and corresponding correction matrix\n",
    "train_structures = train_set[\"collected_structures\"]\n",
    "train_correction_matrix = train_set[\"correction_matrix\"] # matrix which has padding\n",
    "train_corrections_list = train_set[\"corrections_list\"] # list of corrections (which will have variable length)"
   ]
  },
  {
   "cell_type": "markdown",
   "id": "44df37cc",
   "metadata": {},
   "source": [
    "**A note on directionality:** Perturbations are controlled via the tags associated with each atom in the Atoms object. By default, slabs generated with ASE/AutoCat will have the tags going from 1 (top-layer) to # of layers (bottom layer) and adsorbates will have a tag of 0. Atoms given a tag of 0 will be free to move and atoms with tags >=1 will be fixed. Constraints in directionality may be specified via the following specially assigned tag-values (see documentation for further details)"
   ]
  },
  {
   "cell_type": "markdown",
   "id": "2e8e7e28",
   "metadata": {},
   "source": [
    "For future use let's also make a test set"
   ]
  },
  {
   "cell_type": "code",
   "execution_count": 5,
   "id": "234bd52a",
   "metadata": {},
   "outputs": [],
   "source": [
    "test_set = generate_perturbed_dataset(\n",
    "    [base_struct],\n",
    "    num_of_perturbations=20,\n",
    "    minimum_perturbation_distance = 0.01,\n",
    "    maximum_perturbation_distance = 0.75,\n",
    "    maximum_adsorbate_size = None,\n",
    ")\n",
    "\n",
    "# separating out the corrected structures and corresponding correction matrix\n",
    "test_structures = test_set[\"collected_structures\"]\n",
    "test_corrections_list = test_set[\"corrections_list\"]"
   ]
  },
  {
   "cell_type": "markdown",
   "id": "364c6359",
   "metadata": {},
   "source": [
    "# Fitting to perturbation data"
   ]
  },
  {
   "cell_type": "markdown",
   "id": "20312914",
   "metadata": {},
   "source": [
    "To fit our model to the generated perturbation data, we can use the fit method"
   ]
  },
  {
   "cell_type": "code",
   "execution_count": 6,
   "id": "b8803318",
   "metadata": {},
   "outputs": [],
   "source": [
    "acsc.fit(\n",
    "    train_structures,\n",
    "    correction_matrix = train_correction_matrix\n",
    ")"
   ]
  },
  {
   "cell_type": "markdown",
   "id": "c2c69d9e",
   "metadata": {},
   "source": [
    "Alternatively, we can also provide the corrections as a list"
   ]
  },
  {
   "cell_type": "code",
   "execution_count": 7,
   "id": "6bd60f27",
   "metadata": {},
   "outputs": [],
   "source": [
    "acsc.fit(\n",
    "    train_structures,\n",
    "    corrections_list = train_corrections_list\n",
    ")"
   ]
  },
  {
   "cell_type": "markdown",
   "id": "0d67ceb0",
   "metadata": {},
   "source": [
    "If we want to check whether our model has been fit to data, we can use the is_fit method. Note that changing any of the model or featurizer settings will automatically change this value back to False"
   ]
  },
  {
   "cell_type": "code",
   "execution_count": 8,
   "id": "977af7d1",
   "metadata": {},
   "outputs": [
    {
     "name": "stdout",
     "output_type": "stream",
     "text": [
      "Has the model been fit? True\n",
      "Is the model still been fit? False\n"
     ]
    }
   ],
   "source": [
    "print(f\"Has the model been fit? {acsc.is_fit}\")\n",
    "\n",
    "acsc.structure_featurizer = \"elemental_property\"\n",
    "print(f\"Is the model still been fit? {acsc.is_fit}\")"
   ]
  },
  {
   "cell_type": "markdown",
   "id": "f113fce5",
   "metadata": {},
   "source": [
    "Let's refit the model to be used for the next section"
   ]
  },
  {
   "cell_type": "code",
   "execution_count": 9,
   "id": "021a19e7",
   "metadata": {},
   "outputs": [],
   "source": [
    "acsc.structure_featurizer = \"sine_matrix\"\n",
    "\n",
    "acsc.fit(\n",
    "    train_structures,\n",
    "    corrections_list = train_corrections_list\n",
    ")"
   ]
  },
  {
   "cell_type": "markdown",
   "id": "158eefad",
   "metadata": {},
   "source": [
    "# Structure Correction Predictions and Performance Metrics"
   ]
  },
  {
   "cell_type": "markdown",
   "id": "7ab75c93",
   "metadata": {},
   "source": [
    "Now that we have a fit model, we can now make predictions on the test set we made earlier. To do this we can make use of the predict method"
   ]
  },
  {
   "cell_type": "code",
   "execution_count": 10,
   "id": "1a1c2303",
   "metadata": {},
   "outputs": [],
   "source": [
    "predicted_corrections, corrected_structures, unc = (\n",
    "    acsc.predict(\n",
    "        test_structures\n",
    "    )\n",
    ")"
   ]
  },
  {
   "cell_type": "markdown",
   "id": "adb13e4d",
   "metadata": {},
   "source": [
    "When we make predictions we are given three quantities: a list of the predicted corrections for each structure, Atoms objects of the corrected structures, and the uncertainties attributed to each prediction."
   ]
  },
  {
   "cell_type": "markdown",
   "id": "3226da93",
   "metadata": {},
   "source": [
    "Since we know what the corrections need to be for each of the test structures, we can evaluate performance metrics on each of the predictions. At present, both MAE and RMSE are implemented within the score method"
   ]
  },
  {
   "cell_type": "code",
   "execution_count": 11,
   "id": "9d1b78e5",
   "metadata": {},
   "outputs": [
    {
     "name": "stdout",
     "output_type": "stream",
     "text": [
      "MAE = 0.7263375790848622\n",
      "RMSE = 0.5777037271424246\n"
     ]
    }
   ],
   "source": [
    "MAE = acsc.score(test_structures, test_corrections_list)\n",
    "print(f\"MAE = {MAE}\")\n",
    "\n",
    "RMSE = acsc.score(test_structures, test_corrections_list, metric=\"rmse\")\n",
    "print(f\"RMSE = {RMSE}\")"
   ]
  }
 ],
 "metadata": {
  "kernelspec": {
   "display_name": "Python 3",
   "language": "python",
   "name": "python3"
  },
  "language_info": {
   "codemirror_mode": {
    "name": "ipython",
    "version": 3
   },
   "file_extension": ".py",
   "mimetype": "text/x-python",
   "name": "python",
   "nbconvert_exporter": "python",
   "pygments_lexer": "ipython3",
   "version": "3.7.9"
  },
  "toc": {
   "base_numbering": 1,
   "nav_menu": {},
   "number_sections": true,
   "sideBar": true,
   "skip_h1_title": false,
   "title_cell": "Table of Contents",
   "title_sidebar": "Contents",
   "toc_cell": false,
   "toc_position": {},
   "toc_section_display": true,
   "toc_window_display": false
  }
 },
 "nbformat": 4,
 "nbformat_minor": 5
}
