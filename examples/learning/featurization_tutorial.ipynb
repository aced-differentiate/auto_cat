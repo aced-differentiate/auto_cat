{
 "cells": [
  {
   "cell_type": "code",
   "execution_count": 10,
   "metadata": {},
   "outputs": [],
   "source": [
    "import numpy as np\n",
    "\n",
    "from autocat.adsorption import generate_rxn_structures\n",
    "from autocat.surface import generate_surface_structures\n",
    "from autocat.learning.featurizers import full_structure_featurization\n",
    "from autocat.learning.featurizers import adsorbate_featurization\n",
    "from autocat.learning.featurizers import catalyst_featurization\n",
    "from autocat.learning.featurizers import _get_number_of_features\n",
    "from autocat.learning.featurizers import get_X"
   ]
  },
  {
   "cell_type": "markdown",
   "metadata": {},
   "source": [
    "# Adsorbate Featurization"
   ]
  },
  {
   "cell_type": "markdown",
   "metadata": {},
   "source": [
    "In this example we are going to show how to featurize a catalyst structure solely based on local features of the adsorbate. First, let's start with making our adsorbate+slab structure"
   ]
  },
  {
   "cell_type": "code",
   "execution_count": 11,
   "metadata": {},
   "outputs": [],
   "source": [
    "# generate the surface structure to place an adsorbate on\n",
    "surf = generate_surface_structures([\"Fe\"])[\"Fe\"][\"bcc100\"][\"structure\"]\n",
    "\n",
    "# place an adsorbate onto the surface\n",
    "ads_struct = generate_rxn_structures(surf, ads=[\"Li\"])[\"Li\"][\"ontop\"][\"0.0_0.0\"][\n",
    "    \"structure\"\n",
    "]"
   ]
  },
  {
   "cell_type": "markdown",
   "metadata": {},
   "source": [
    "Now that we have our structure, we can now featurize the OOH adsorbate using a multitude of techniques. Let's use SOAP:"
   ]
  },
  {
   "cell_type": "code",
   "execution_count": 12,
   "metadata": {},
   "outputs": [
    {
     "name": "stdout",
     "output_type": "stream",
     "text": [
      "Adsorbate featurized into a vector of shape: (1950,)\n"
     ]
    }
   ],
   "source": [
    "soap_feat = adsorbate_featurization(\n",
    "    ads_struct,\n",
    "    featurizer=\"soap\",\n",
    "    species_list = [\"Fe\", \"Li\", \"H\"], # species that should be accounted for by the representation\n",
    "    rcut = 6, # cutoff radius\n",
    "    nmax=4,\n",
    "    lmax=4, # maximum order of spherical harmonic\n",
    "    maximum_adsorbate_size = 5, # maximum adsorbate size that can be handled by the representation\n",
    "    refine_structure = True # this refines the structure to only include surface and adsorbate atoms\n",
    ")\n",
    "print(f\"Adsorbate featurized into a vector of shape: {soap_feat.shape}\")"
   ]
  },
  {
   "cell_type": "markdown",
   "metadata": {},
   "source": [
    "Similarly, we can use the same function with a different featurization technique. For example we can use the order parameter site fingerprint:"
   ]
  },
  {
   "cell_type": "code",
   "execution_count": 13,
   "metadata": {},
   "outputs": [
    {
     "name": "stdout",
     "output_type": "stream",
     "text": [
      "Adsorbate featurized into a vector of shape: (185,)\n"
     ]
    }
   ],
   "source": [
    "opsf_feat = adsorbate_featurization(\n",
    "    ads_struct,\n",
    "    featurizer=\"op_sitefingerprint\",\n",
    "    maximum_adsorbate_size=5,\n",
    "    refine_structure=False,\n",
    ")\n",
    "print(f\"Adsorbate featurized into a vector of shape: {opsf_feat.shape}\")"
   ]
  },
  {
   "cell_type": "markdown",
   "metadata": {},
   "source": [
    "Note that different featurization techniques will result in varying representation sizes, but will also have varying degrees of learning success. We encourage the user to try different approaches for their specific application"
   ]
  },
  {
   "cell_type": "markdown",
   "metadata": {},
   "source": [
    "# Long-range full structure featurization"
   ]
  },
  {
   "cell_type": "markdown",
   "metadata": {},
   "source": [
    "In the previous section we looked at featurizing the adsorbate by its local environment. Now we can take a look at how we might want to capture longer-range phenomena via full structure featurization. Again, we start with making an example structure"
   ]
  },
  {
   "cell_type": "code",
   "execution_count": 14,
   "metadata": {},
   "outputs": [],
   "source": [
    "# generate the surface structure to place an adsorbate on\n",
    "surf = generate_surface_structures([\"Cu\"])[\"Cu\"][\"fcc111\"][\"structure\"]\n",
    "\n",
    "# place an adsorbate onto the surface\n",
    "ads_struct = generate_rxn_structures(surf, ads=[\"OH\"])[\"OH\"][\"ontop\"][\"0.0_0.0\"][\n",
    "    \"structure\"\n",
    "]"
   ]
  },
  {
   "cell_type": "markdown",
   "metadata": {},
   "source": [
    "One of the simpler forms of larger scale featurization is just taking elemental properties based upon the structure composition:"
   ]
  },
  {
   "cell_type": "code",
   "execution_count": 20,
   "metadata": {},
   "outputs": [
    {
     "name": "stdout",
     "output_type": "stream",
     "text": [
      "[1.00000000e+00 4.40000000e+01 4.30000000e+01 4.08461538e+01\n",
      " 5.82248521e+00 4.40000000e+01 5.60000000e+01 9.20000000e+01\n",
      " 3.60000000e+01 5.85128205e+01 4.63905325e+00 5.60000000e+01\n",
      " 1.00794000e+00 1.01070000e+02 1.00062060e+02 9.37062200e+01\n",
      " 1.35946708e+01 1.01070000e+02 1.40100000e+01 2.60700000e+03\n",
      " 2.59299000e+03 2.40879667e+03 3.65913846e+02 2.60700000e+03\n",
      " 1.00000000e+00 1.50000000e+01 1.40000000e+01 7.82051282e+00\n",
      " 6.99539776e-01 8.00000000e+00 1.00000000e+00 5.00000000e+00\n",
      " 4.00000000e+00 4.71794872e+00 5.20710059e-01 5.00000000e+00\n",
      " 3.10000000e+01 1.46000000e+02 1.15000000e+02 1.38179487e+02\n",
      " 1.44378698e+01 1.46000000e+02 2.20000000e+00 3.04000000e+00\n",
      " 8.40000000e-01 2.22153846e+00 4.19723866e-02 2.20000000e+00\n",
      " 1.00000000e+00 2.00000000e+00 1.00000000e+00 1.02564103e+00\n",
      " 4.99671269e-02 1.00000000e+00 0.00000000e+00 3.00000000e+00\n",
      " 3.00000000e+00 7.69230769e-02 1.49901381e-01 0.00000000e+00\n",
      " 0.00000000e+00 7.00000000e+00 7.00000000e+00 6.46153846e+00\n",
      " 9.94082840e-01 7.00000000e+00 0.00000000e+00 0.00000000e+00\n",
      " 0.00000000e+00 0.00000000e+00 0.00000000e+00 0.00000000e+00\n",
      " 1.00000000e+00 8.00000000e+00 7.00000000e+00 7.56410256e+00\n",
      " 8.04733728e-01 8.00000000e+00 0.00000000e+00 1.00000000e+00\n",
      " 1.00000000e+00 9.74358974e-01 4.99671269e-02 1.00000000e+00\n",
      " 0.00000000e+00 3.00000000e+00 3.00000000e+00 7.69230769e-02\n",
      " 1.49901381e-01 0.00000000e+00 0.00000000e+00 3.00000000e+00\n",
      " 3.00000000e+00 2.76923077e+00 4.26035503e-01 3.00000000e+00\n",
      " 0.00000000e+00 0.00000000e+00 0.00000000e+00 0.00000000e+00\n",
      " 0.00000000e+00 0.00000000e+00 1.00000000e+00 4.00000000e+00\n",
      " 3.00000000e+00 3.82051282e+00 3.31360947e-01 4.00000000e+00\n",
      " 6.61500000e+00 1.47687500e+01 8.15375000e+00 1.31886859e+01\n",
      " 6.74224195e-01 1.35100000e+01 0.00000000e+00 7.85300000e+00\n",
      " 7.85300000e+00 5.67769231e-01 1.04818935e+00 0.00000000e+00\n",
      " 0.00000000e+00 0.00000000e+00 0.00000000e+00 0.00000000e+00\n",
      " 0.00000000e+00 0.00000000e+00 1.94000000e+02 1.94000000e+02\n",
      " 0.00000000e+00 1.94000000e+02 0.00000000e+00 1.94000000e+02]\n"
     ]
    }
   ],
   "source": [
    "elem_prop = full_structure_featurization(\n",
    "    ads_struct,\n",
    "    featurizer=\"elemental_property\",\n",
    "    elementalproperty_preset=\"magpie\", # here we can choose other presets as implemented within `matminer`\n",
    "    refine_structure = False,\n",
    "    maximum_structure_size = None, # by default we will just take the max size as the size of the slab+adsorbate\n",
    ")\n",
    "print(f\"Full structure featurized into representation of shape {elem_prop.shape}\")"
   ]
  },
  {
   "cell_type": "markdown",
   "metadata": {},
   "source": [
    "We can also featurize the full structure through use of a sine matrix, an extension of the coulomb matrix:"
   ]
  },
  {
   "cell_type": "code",
   "execution_count": 18,
   "metadata": {},
   "outputs": [
    {
     "name": "stdout",
     "output_type": "stream",
     "text": [
      "Full structure featurized into representation of shape (1600,)\n"
     ]
    }
   ],
   "source": [
    "sine_matrix = full_structure_featurization(\n",
    "    ads_struct,\n",
    "    maximum_structure_size = None,\n",
    "    refine_structure = True # this helps reduce the number of features to only\n",
    ")\n",
    "print(f\"Full structure featurized into representation of shape {sine_matrix.shape}\")"
   ]
  },
  {
   "cell_type": "markdown",
   "metadata": {},
   "source": [
    "We note here the use of refine_structure for the sine matrix. The main motivation for this is that since the sine matrix consists of pairwise interactions, and we are most interested in the adsorbate + slab interactions, only considering the surface and adsorbate atoms is an approach to reduce the representation length "
   ]
  },
  {
   "cell_type": "markdown",
   "metadata": {},
   "source": [
    "# Catalyst Featurization (Adsorbate + Full Structure)"
   ]
  },
  {
   "cell_type": "markdown",
   "metadata": {},
   "source": [
    "As a means to incorporate both the short-range and longer-range features into a single representation, we can combine them in a consistent, generalizable manner using autocat. First, let's make our structure:"
   ]
  },
  {
   "cell_type": "code",
   "execution_count": 21,
   "metadata": {},
   "outputs": [],
   "source": [
    "# generate the surface structure to place an adsorbate on\n",
    "surf = generate_surface_structures([\"Ru\"])[\"Ru\"][\"hcp0001\"][\"structure\"]\n",
    "\n",
    "# place an adsorbate onto the surface\n",
    "ads_struct = generate_rxn_structures(surf, ads=[\"NH2\"])[\"NH2\"][\"ontop\"][\"0.0_0.0\"][\n",
    "    \"structure\"\n",
    "]"
   ]
  },
  {
   "cell_type": "markdown",
   "metadata": {},
   "source": [
    "Here we have the freedom to combine any of autocat's local featurization techniques with any of its longer range features. As an example, let's combine the sine matrix with SOAP"
   ]
  },
  {
   "cell_type": "code",
   "execution_count": 24,
   "metadata": {},
   "outputs": [
    {
     "name": "stdout",
     "output_type": "stream",
     "text": [
      "Catalyst featurized into a representation of shape (3160,)\n"
     ]
    }
   ],
   "source": [
    "cat = catalyst_featurization(\n",
    "    ads_struct,\n",
    "    maximum_structure_size=40,\n",
    "    maximum_adsorbate_size=4,\n",
    "    structure_featurizer = \"sine_matrix\",\n",
    "    adsorbate_featurizer = \"soap\",\n",
    "    adsorbate_featurization_kwargs={\"rcut\": 6.0, \"nmax\": 4, \"lmax\": 4},\n",
    "    refine_structure=False,\n",
    ")\n",
    "print(f\"Catalyst featurized into a representation of shape {cat.shape}\")"
   ]
  },
  {
   "cell_type": "markdown",
   "metadata": {},
   "source": [
    "Here is where the use of maximum structure size and maximum adsorbate size becomes most useful, as it allows for consistently sized vectors when incorporating structures and adsorbates of different sizes into a single representation. This is done through the use of zero-padding for both full-structure and short-range components of the representation. This leads into our next section of featurizing into an input matrix"
   ]
  },
  {
   "cell_type": "markdown",
   "metadata": {},
   "source": [
    "# Featurizing many structures at once"
   ]
  },
  {
   "cell_type": "markdown",
   "metadata": {},
   "source": [
    "As is often the case, we are generally most interested in featurizing multiple structures at once rather than just a single structure in isolation. While if the user opts to use AutoCats structure corrector predictor this is done under-the-hood, but we showcase this feature here to show how it can be used if one then wants to feed this into an alternate ML software"
   ]
  },
  {
   "cell_type": "code",
   "execution_count": 25,
   "metadata": {},
   "outputs": [],
   "source": [
    "# generate multiple slab+adsorbate structures\n",
    "structs = []\n",
    "surf1 = generate_surface_structures([\"Pt\"])[\"Pt\"][\"fcc111\"][\"structure\"]\n",
    "ads1 = generate_rxn_structures(\n",
    "    surf1,\n",
    "    ads=[\"NH3\", \"CO\"],\n",
    "    all_sym_sites=False,\n",
    "    sites={\"origin\": [(0.0, 0.0)]},\n",
    "    height={\"CO\": 1.5},\n",
    "    rots={\"NH3\": [[180.0, \"x\"], [90.0, \"z\"]], \"CO\": [[180.0, \"y\"]]},\n",
    ")\n",
    "structs.append(ads1[\"NH3\"][\"origin\"][\"0.0_0.0\"][\"structure\"])\n",
    "structs.append(ads1[\"CO\"][\"origin\"][\"0.0_0.0\"][\"structure\"])\n",
    "surf2 = generate_surface_structures([\"Ru\"])[\"Ru\"][\"hcp0001\"][\"structure\"]\n",
    "ads2 = generate_rxn_structures(\n",
    "    surf2, ads=[\"N\"], all_sym_sites=False, sites={\"origin\": [(0.0, 0.0)]},\n",
    ")\n",
    "structs.append(ads2[\"N\"][\"origin\"][\"0.0_0.0\"][\"structure\"])"
   ]
  },
  {
   "cell_type": "code",
   "execution_count": 27,
   "metadata": {},
   "outputs": [
    {
     "name": "stdout",
     "output_type": "stream",
     "text": [
      "Input matrix, X of shape (3, 10000) generated\n"
     ]
    }
   ],
   "source": [
    "X = get_X(\n",
    "    structs,\n",
    "    maximum_structure_size=50,\n",
    "    maximum_adsorbate_size=5,\n",
    "    structure_featurizer = \"sine_matrix\",\n",
    "    adsorbate_featurizer = \"soap\",\n",
    "    refine_structures = True,\n",
    "    adsorbate_featurization_kwargs={\"rcut\": 5.0, \"nmax\": 4, \"lmax\": 4},\n",
    "    write_to_disk = False, # we can write the matrix to disk as a json\n",
    "    write_location = \".\",\n",
    ")\n",
    "print(f\"Input matrix, X of shape {X.shape} generated\")"
   ]
  },
  {
   "cell_type": "markdown",
   "metadata": {},
   "source": [
    "We note that the shape of the matrix X generated is (# of structures, full_structure_feat(max_structure_size) + adsorbate_feat(max_adsorbate_size))"
   ]
  },
  {
   "cell_type": "code",
   "execution_count": null,
   "metadata": {},
   "outputs": [],
   "source": []
  }
 ],
 "metadata": {
  "kernelspec": {
   "display_name": "Python 3",
   "language": "python",
   "name": "python3"
  },
  "language_info": {
   "codemirror_mode": {
    "name": "ipython",
    "version": 3
   },
   "file_extension": ".py",
   "mimetype": "text/x-python",
   "name": "python",
   "nbconvert_exporter": "python",
   "pygments_lexer": "ipython3",
   "version": "3.7.9"
  },
  "toc": {
   "base_numbering": 1,
   "nav_menu": {},
   "number_sections": true,
   "sideBar": true,
   "skip_h1_title": false,
   "title_cell": "Table of Contents",
   "title_sidebar": "Contents",
   "toc_cell": false,
   "toc_position": {},
   "toc_section_display": true,
   "toc_window_display": false
  }
 },
 "nbformat": 4,
 "nbformat_minor": 4
}
