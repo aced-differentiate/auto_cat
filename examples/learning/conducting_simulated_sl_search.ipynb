{
 "cells": [
  {
   "cell_type": "code",
   "execution_count": 1,
   "metadata": {},
   "outputs": [],
   "source": [
    "import numpy as np\n",
    "\n",
    "from sklearn.gaussian_process import GaussianProcessRegressor\n",
    "\n",
    "from matminer.featurizers.composition import ElementProperty\n",
    "\n",
    "from autocat.saa import generate_saa_structures\n",
    "\n",
    "from autocat.utils import extract_structures\n",
    "\n",
    "from autocat.learning.sequential import DesignSpace\n",
    "from autocat.learning.sequential import simulated_sequential_learning"
   ]
  },
  {
   "cell_type": "markdown",
   "metadata": {},
   "source": [
    "In this example we show how to conduct a simulated sequential learning run."
   ]
  },
  {
   "cell_type": "code",
   "execution_count": 2,
   "metadata": {},
   "outputs": [],
   "source": [
    "saa_dictionary = generate_saa_structures(\n",
    "    host_species=[\"Cu\", \"Au\", \"Fe\", \"Ag\", \"Ti\"],\n",
    "    dopant_species=[\"Pt\", \"Pd\", \"Co\", \"Ni\"],\n",
    "    facets={\"Cu\": [\"111\"], \"Au\": [\"111\"], \"Fe\": [\"110\"], \"Ag\": [\"111\"], \"Ti\": [\"0001\"]}\n",
    ")\n",
    "\n",
    "saa_structures = extract_structures(saa_dictionary)"
   ]
  },
  {
   "cell_type": "code",
   "execution_count": 3,
   "metadata": {},
   "outputs": [],
   "source": [
    "labels = np.random.randint(-15,15,size=len(saa_structures))"
   ]
  },
  {
   "cell_type": "code",
   "execution_count": 4,
   "metadata": {},
   "outputs": [],
   "source": [
    "saa_design_space = DesignSpace(\n",
    "    design_space_structures=saa_structures,\n",
    "    design_space_labels=labels\n",
    ")"
   ]
  },
  {
   "cell_type": "code",
   "execution_count": 5,
   "metadata": {},
   "outputs": [
    {
     "name": "stdout",
     "output_type": "stream",
     "text": [
      "Sequential Learning Iteration #1\n",
      "Sequential Learning Iteration #2\n",
      "Sequential Learning Iteration #3\n",
      "Sequential Learning Iteration #4\n",
      "Sequential Learning Iteration #5\n"
     ]
    }
   ],
   "source": [
    "sl_history = simulated_sequential_learning(\n",
    "    full_design_space=saa_design_space,\n",
    "    init_training_size=2,\n",
    "    predictor_kwargs={\n",
    "        \"featurizer_class\": ElementProperty, \n",
    "        \"featurization_kwargs\":{\"preset\": \"magpie\"}, \n",
    "        \"model_class\": GaussianProcessRegressor\n",
    "    },\n",
    "    candidate_selection_kwargs={\"aq\": \"MU\", \"include_hhi\": True},\n",
    "    number_of_sl_loops=5\n",
    ")"
   ]
  },
  {
   "cell_type": "code",
   "execution_count": 6,
   "metadata": {},
   "outputs": [
    {
     "name": "stdout",
     "output_type": "stream",
     "text": [
      "+----------------------------------+--------------------+\n",
      "|                                  | Sequential Learner |\n",
      "+----------------------------------+--------------------+\n",
      "|         iteration count          |         6          |\n",
      "| next candidate system structures |     ['PdTi35']     |\n",
      "|  next candidate system indices   |        [17]        |\n",
      "|       acquisition function       |         MU         |\n",
      "|     # of candidates to pick      |         1          |\n",
      "|          target maximum          |        None        |\n",
      "|          target minimum          |        None        |\n",
      "|           include hhi?           |        True        |\n",
      "|  include segregation energies?   |       False        |\n",
      "+----------------------------------+--------------------+\n",
      "+-------------------------+--------------------------------------------------------+\n",
      "|                         |                      DesignSpace                       |\n",
      "+-------------------------+--------------------------------------------------------+\n",
      "|    total # of systems   |                           20                           |\n",
      "| # of unlabelled systems |                           13                           |\n",
      "|  unique species present | ['Cu', 'Pt', 'Pd', 'Co', 'Ni', 'Au', 'Fe', 'Ag', 'Ti'] |\n",
      "|      maximum label      |                          nan                           |\n",
      "|      minimum label      |                          nan                           |\n",
      "+-------------------------+--------------------------------------------------------+\n",
      "+---------+--------------------------------------------------------+\n",
      "|         |                       Predictor                        |\n",
      "+---------+--------------------------------------------------------+\n",
      "|  class  | sklearn.gaussian_process._gpr.GaussianProcessRegressor |\n",
      "|  kwargs |                          None                          |\n",
      "| is fit? |                          True                          |\n",
      "+---------+--------------------------------------------------------+\n",
      "+-----------------------------------+------------------------------------------------------------+\n",
      "|                                   |                         Featurizer                         |\n",
      "+-----------------------------------+------------------------------------------------------------+\n",
      "|               class               | matminer.featurizers.composition.composite.ElementProperty |\n",
      "|               kwargs              |                            None                            |\n",
      "|            species list           |   ['Ti', 'Fe', 'Co', 'Ni', 'Pt', 'Pd', 'Au', 'Ag', 'Cu']   |\n",
      "|       maximum structure size      |                             36                             |\n",
      "|               preset              |                           magpie                           |\n",
      "| design space structures provided? |                            True                            |\n",
      "+-----------------------------------+------------------------------------------------------------+\n"
     ]
    }
   ],
   "source": [
    "print(sl_history)"
   ]
  },
  {
   "cell_type": "code",
   "execution_count": null,
   "metadata": {},
   "outputs": [],
   "source": []
  }
 ],
 "metadata": {
  "interpreter": {
   "hash": "bbcedd833a666dedd7a02add1ace8ad982a80fa78e4f715016af545a1fb42dd5"
  },
  "kernelspec": {
   "display_name": "Python 3.9.10 ('autocat39')",
   "language": "python",
   "name": "python3"
  },
  "language_info": {
   "codemirror_mode": {
    "name": "ipython",
    "version": 3
   },
   "file_extension": ".py",
   "mimetype": "text/x-python",
   "name": "python",
   "nbconvert_exporter": "python",
   "pygments_lexer": "ipython3",
   "version": "3.9.10"
  },
  "orig_nbformat": 4
 },
 "nbformat": 4,
 "nbformat_minor": 2
}
