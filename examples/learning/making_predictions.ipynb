{
 "cells": [
  {
   "cell_type": "code",
   "execution_count": 1,
   "metadata": {},
   "outputs": [],
   "source": [
    "import numpy as np\n",
    "\n",
    "from sklearn.gaussian_process import GaussianProcessRegressor\n",
    "from sklearn.gaussian_process.kernels import RBF\n",
    "\n",
    "from dscribe.descriptors import SineMatrix\n",
    "\n",
    "from autocat.surface import generate_surface_structures\n",
    "from autocat.adsorption import generate_adsorbed_structures\n",
    "\n",
    "from autocat.utils import extract_structures\n",
    "\n",
    "from autocat.learning.predictors import Predictor"
   ]
  },
  {
   "cell_type": "markdown",
   "metadata": {},
   "source": [
    "In this example we show how to train a `Predictor` and use it to make predictions for adsorbates on Pt."
   ]
  },
  {
   "cell_type": "code",
   "execution_count": 2,
   "metadata": {},
   "outputs": [],
   "source": [
    "# Generate adsorption structures\n",
    "substrates_dictionary = generate_surface_structures(\n",
    "    species_list=[\"Pt\"],\n",
    "    facets={\"Pt\":[\"100\"]}\n",
    ")\n",
    "\n",
    "substrate = extract_structures(substrates_dictionary)[0]\n",
    "\n",
    "adsorbed_dictionary = generate_adsorbed_structures(\n",
    "    surface=substrate,\n",
    "    adsorbates=[\"H\", \"O\", \"N\", \"C\", \"Na\"],\n",
    "    use_all_sites=False,\n",
    ")\n",
    "\n",
    "adsorbed_structures = extract_structures(adsorbed_dictionary)"
   ]
  },
  {
   "cell_type": "code",
   "execution_count": 3,
   "metadata": {},
   "outputs": [],
   "source": [
    "# Generate labels\n",
    "# N.B. here they are random for convenience, but should be actual values to train a meaningful `Predictor`\n",
    "\n",
    "labels = np.random.randint(-10,10,size=len(adsorbed_structures))"
   ]
  },
  {
   "cell_type": "code",
   "execution_count": 4,
   "metadata": {},
   "outputs": [
    {
     "name": "stdout",
     "output_type": "stream",
     "text": [
      "+---------+--------------------------------------------------------+\n",
      "|         |                       Predictor                        |\n",
      "+---------+--------------------------------------------------------+\n",
      "|  class  | sklearn.gaussian_process._gpr.GaussianProcessRegressor |\n",
      "|  kwargs |           {'kernel': RBF(length_scale=0.5)}            |\n",
      "| is fit? |                         False                          |\n",
      "+---------+--------------------------------------------------------+\n",
      "+-----------------------------------+-------------------------------------------+\n",
      "|                                   |                 Featurizer                |\n",
      "+-----------------------------------+-------------------------------------------+\n",
      "|               class               | dscribe.descriptors.sinematrix.SineMatrix |\n",
      "|               kwargs              |                    None                   |\n",
      "|            species list           |      ['Na', 'Pt', 'C', 'N', 'O', 'H']     |\n",
      "|       maximum structure size      |                     37                    |\n",
      "|               preset              |                    None                   |\n",
      "| design space structures provided? |                    True                   |\n",
      "+-----------------------------------+-------------------------------------------+\n"
     ]
    }
   ],
   "source": [
    "kernel = RBF(0.5)\n",
    "\n",
    "predictor = Predictor(\n",
    "    model_class=GaussianProcessRegressor,\n",
    "    model_kwargs={\"kernel\": kernel},\n",
    "    featurizer_class=SineMatrix,\n",
    "    featurization_kwargs={\"design_space_structures\": adsorbed_structures}\n",
    ")\n",
    "\n",
    "print(predictor)"
   ]
  },
  {
   "cell_type": "code",
   "execution_count": 5,
   "metadata": {},
   "outputs": [
    {
     "name": "stdout",
     "output_type": "stream",
     "text": [
      "True\n"
     ]
    }
   ],
   "source": [
    "predictor.fit(\n",
    "    training_structures=adsorbed_structures,\n",
    "    y=labels\n",
    ")\n",
    "\n",
    "print(predictor.is_fit)"
   ]
  },
  {
   "cell_type": "code",
   "execution_count": 6,
   "metadata": {},
   "outputs": [],
   "source": [
    "test_dictionary = generate_adsorbed_structures(\n",
    "    surface=substrate,\n",
    "    adsorbates=[\"S\", \"Li\", \"P\"],\n",
    "    use_all_sites=False\n",
    ")\n",
    "\n",
    "test_structures = extract_structures(test_dictionary)"
   ]
  },
  {
   "cell_type": "code",
   "execution_count": 7,
   "metadata": {},
   "outputs": [
    {
     "name": "stdout",
     "output_type": "stream",
     "text": [
      "(3,)\n",
      "(3,)\n"
     ]
    }
   ],
   "source": [
    "# Make predictions on unseen data\n",
    "predictions, uncertainties = predictor.predict(testing_structures=test_structures)\n",
    "print(predictions.shape)\n",
    "print(uncertainties.shape)"
   ]
  },
  {
   "cell_type": "code",
   "execution_count": null,
   "metadata": {},
   "outputs": [],
   "source": []
  }
 ],
 "metadata": {
  "interpreter": {
   "hash": "bbcedd833a666dedd7a02add1ace8ad982a80fa78e4f715016af545a1fb42dd5"
  },
  "kernelspec": {
   "display_name": "Python 3.9.10 ('autocat39')",
   "language": "python",
   "name": "python3"
  },
  "language_info": {
   "codemirror_mode": {
    "name": "ipython",
    "version": 3
   },
   "file_extension": ".py",
   "mimetype": "text/x-python",
   "name": "python",
   "nbconvert_exporter": "python",
   "pygments_lexer": "ipython3",
   "version": "3.9.10"
  },
  "orig_nbformat": 4
 },
 "nbformat": 4,
 "nbformat_minor": 2
}
