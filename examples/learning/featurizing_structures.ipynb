{
 "cells": [
  {
   "cell_type": "code",
   "execution_count": 1,
   "metadata": {},
   "outputs": [],
   "source": [
    "from autocat.surface import generate_surface_structures\n",
    "from autocat.saa import generate_saa_structures\n",
    "\n",
    "from autocat.utils import extract_structures\n",
    "\n",
    "from autocat.learning.featurizers import Featurizer\n",
    "\n",
    "from dscribe.descriptors import CoulombMatrix\n",
    "from matminer.featurizers.composition import ElementProperty"
   ]
  },
  {
   "cell_type": "markdown",
   "metadata": {},
   "source": [
    "In this example we show how to use `AutoCat` to featurize structures with the `Featurizer` class.\n",
    "\n",
    "Here we will be featurizing mono-elemental surfaces."
   ]
  },
  {
   "cell_type": "code",
   "execution_count": 2,
   "metadata": {},
   "outputs": [],
   "source": [
    "# Generate structures to be featurized\n",
    "mono_surfaces_dictionary = generate_surface_structures(\n",
    "    species_list=[\"Fe\", \"Ru\", \"Cu\", \"Pd\"],\n",
    "    facets={\"Fe\": [\"110\"], \"Ru\":[\"0001\"], \"Cu\":[\"111\"], \"Pd\":[\"111\"]}\n",
    ")\n",
    "mono_surfaces_structures = extract_structures(mono_surfaces_dictionary)\n",
    "\n",
    "saa_surfaces_dictionary = generate_saa_structures(\n",
    "    host_species=[\"Cu\", \"Au\"],\n",
    "    dopant_species=[\"Pt\", \"Pd\"],\n",
    "    facets={\"Cu\":[\"111\"], \"Au\":[\"111\"]}\n",
    ")\n",
    "saa_surfaces_structures = extract_structures(saa_surfaces_dictionary)\n",
    "\n",
    "all_structures = mono_surfaces_structures.copy()\n",
    "all_structures.extend(saa_surfaces_structures)"
   ]
  },
  {
   "cell_type": "code",
   "execution_count": 3,
   "metadata": {},
   "outputs": [
    {
     "name": "stdout",
     "output_type": "stream",
     "text": [
      "Fe36\n"
     ]
    }
   ],
   "source": [
    "print(all_structures[0].get_chemical_formula())"
   ]
  },
  {
   "cell_type": "code",
   "execution_count": 4,
   "metadata": {},
   "outputs": [
    {
     "name": "stdout",
     "output_type": "stream",
     "text": [
      "+-----------------------------------+-------------------------------------------------+\n",
      "|                                   |                    Featurizer                   |\n",
      "+-----------------------------------+-------------------------------------------------+\n",
      "|               class               | dscribe.descriptors.coulombmatrix.CoulombMatrix |\n",
      "|               kwargs              |                       None                      |\n",
      "|            species list           |       ['Fe', 'Ru', 'Pt', 'Pd', 'Au', 'Cu']      |\n",
      "|       maximum structure size      |                        36                       |\n",
      "|               preset              |                       None                      |\n",
      "| design space structures provided? |                       True                      |\n",
      "+-----------------------------------+-------------------------------------------------+\n"
     ]
    }
   ],
   "source": [
    "# Instantiate featurizer based on Coulomb Matrix\n",
    "coulomb_featurizer = Featurizer(\n",
    "    featurizer_class=CoulombMatrix, \n",
    "    design_space_structures=all_structures\n",
    ")\n",
    "print(coulomb_featurizer)"
   ]
  },
  {
   "cell_type": "code",
   "execution_count": 5,
   "metadata": {},
   "outputs": [
    {
     "name": "stdout",
     "output_type": "stream",
     "text": [
      "(1296,)\n"
     ]
    }
   ],
   "source": [
    "# Featurize just Fe\n",
    "fe_feature_vector = coulomb_featurizer.featurize_single(all_structures[0])\n",
    "print(fe_feature_vector.shape)"
   ]
  },
  {
   "cell_type": "code",
   "execution_count": 6,
   "metadata": {},
   "outputs": [
    {
     "name": "stdout",
     "output_type": "stream",
     "text": [
      "(8, 1296)\n"
     ]
    }
   ],
   "source": [
    "# Featurize all structures into a single matrix\n",
    "feature_matrix = coulomb_featurizer.featurize_multiple(all_structures)\n",
    "print(feature_matrix.shape)"
   ]
  },
  {
   "cell_type": "code",
   "execution_count": 7,
   "metadata": {},
   "outputs": [
    {
     "name": "stdout",
     "output_type": "stream",
     "text": [
      "+-----------------------------------+------------------------------------------------------------+\n",
      "|                                   |                         Featurizer                         |\n",
      "+-----------------------------------+------------------------------------------------------------+\n",
      "|               class               | matminer.featurizers.composition.composite.ElementProperty |\n",
      "|               kwargs              |                            None                            |\n",
      "|            species list           |            ['Fe', 'Ru', 'Pt', 'Pd', 'Au', 'Cu']            |\n",
      "|       maximum structure size      |                             36                             |\n",
      "|               preset              |                          matminer                          |\n",
      "| design space structures provided? |                            True                            |\n",
      "+-----------------------------------+------------------------------------------------------------+\n"
     ]
    }
   ],
   "source": [
    "# Instantiate element property featurizer\n",
    "element_featurizer = Featurizer(\n",
    "    featurizer_class=ElementProperty,\n",
    "    design_space_structures=all_structures,\n",
    "    preset=\"matminer\"\n",
    ")\n",
    "\n",
    "print(element_featurizer)"
   ]
  },
  {
   "cell_type": "code",
   "execution_count": 8,
   "metadata": {},
   "outputs": [
    {
     "name": "stdout",
     "output_type": "stream",
     "text": [
      "(65,)\n"
     ]
    }
   ],
   "source": [
    "# Featurize just Fe\n",
    "fe_feature_vector = element_featurizer.featurize_single(all_structures[0])\n",
    "print(fe_feature_vector.shape)"
   ]
  },
  {
   "cell_type": "code",
   "execution_count": 9,
   "metadata": {},
   "outputs": [
    {
     "name": "stdout",
     "output_type": "stream",
     "text": [
      "(8, 65)\n"
     ]
    }
   ],
   "source": [
    "# Featurize all structures at once\n",
    "feature_matrix = element_featurizer.featurize_multiple(all_structures)\n",
    "print(feature_matrix.shape)"
   ]
  }
 ],
 "metadata": {
  "interpreter": {
   "hash": "bbcedd833a666dedd7a02add1ace8ad982a80fa78e4f715016af545a1fb42dd5"
  },
  "kernelspec": {
   "display_name": "Python 3.9.10 ('autocat39')",
   "language": "python",
   "name": "python3"
  },
  "language_info": {
   "codemirror_mode": {
    "name": "ipython",
    "version": 3
   },
   "file_extension": ".py",
   "mimetype": "text/x-python",
   "name": "python",
   "nbconvert_exporter": "python",
   "pygments_lexer": "ipython3",
   "version": "3.9.10"
  },
  "orig_nbformat": 4
 },
 "nbformat": 4,
 "nbformat_minor": 2
}
