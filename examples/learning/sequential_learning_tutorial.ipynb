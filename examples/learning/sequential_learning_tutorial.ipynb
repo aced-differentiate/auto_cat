{
 "cells": [
  {
   "cell_type": "code",
   "execution_count": 1,
   "id": "b2f4b043",
   "metadata": {},
   "outputs": [],
   "source": [
    "import numpy as np\n",
    "\n",
    "from autocat.adsorption import place_adsorbate\n",
    "from autocat.surface import generate_surface_structures\n",
    "from autocat.learning.predictors import AutoCatStructureCorrector\n",
    "from autocat.learning.sequential import simulated_sequential_learning\n",
    "from autocat.learning.sequential import multiple_sequential_learning_runs"
   ]
  },
  {
   "cell_type": "markdown",
   "id": "2ceb554b",
   "metadata": {},
   "source": [
    "In this tutorial we show how to conduct sequential learning runs for training an `AutoCatStructureCorrector`"
   ]
  },
  {
   "cell_type": "markdown",
   "id": "c2d963c5",
   "metadata": {},
   "source": [
    "# Sequential Learning"
   ]
  },
  {
   "cell_type": "markdown",
   "id": "016adce8",
   "metadata": {},
   "source": [
    "In order to conduct a sequential learning run, we need three things: i) an `AutoCatStructureCorrector` object with our desired featurizer settings, ii) base structures to be used for training, iii) base_structures to be used for testing (this one is optional)"
   ]
  },
  {
   "cell_type": "code",
   "execution_count": 2,
   "id": "c77eca10",
   "metadata": {},
   "outputs": [],
   "source": [
    "acsc = AutoCatStructureCorrector(\n",
    "    structure_featurizer=\"sine_matrix\",\n",
    "    adsorbate_featurizer=\"soap\",\n",
    "    adsorbate_featurization_kwargs={\"rcut\": 5.0, \"nmax\": 4, \"lmax\": 4},\n",
    "    refine_structures = True,\n",
    "    maximum_structure_size = None, # will default to max structure encountered\n",
    "    maximum_adsorbate_size = None, # will default to max adsorbate encountered\n",
    "    species_list = [\"Pd\", \"C\", \"O\", \"Cu\"] # This is important to include!\n",
    ")"
   ]
  },
  {
   "cell_type": "code",
   "execution_count": 3,
   "id": "b86e5552",
   "metadata": {},
   "outputs": [],
   "source": [
    "sub = generate_surface_structures([\"Pd\"], facets={\"Pd\": [\"100\"]})[\"Pd\"][\"fcc100\"][\n",
    "    \"structure\"\n",
    "]\n",
    "train_base_struct = place_adsorbate(sub, \"CO\")[\"custom\"][\"structure\"]"
   ]
  },
  {
   "cell_type": "code",
   "execution_count": 4,
   "id": "cd42d052",
   "metadata": {},
   "outputs": [],
   "source": [
    "sub2 = generate_surface_structures([\"Cu\"], facets={\"Cu\": [\"100\"]})[\"Cu\"][\"fcc100\"][\n",
    "    \"structure\"\n",
    "]\n",
    "test_base_struct = place_adsorbate(sub2, \"O\")[\"custom\"][\"structure\"]"
   ]
  },
  {
   "cell_type": "markdown",
   "id": "e185c3d8",
   "metadata": {},
   "source": [
    "We're now ready to conduct a sequential learning run"
   ]
  },
  {
   "cell_type": "code",
   "execution_count": 5,
   "id": "764fc7bb",
   "metadata": {},
   "outputs": [
    {
     "name": "stdout",
     "output_type": "stream",
     "text": [
      "Sequential Learning Iteration #1\n",
      "Sequential Learning Iteration #2\n",
      "Sequential Learning Iteration #3\n",
      "Sequential Learning Iteration #4\n"
     ]
    }
   ],
   "source": [
    "sl_dict = simulated_sequential_learning(\n",
    "    acsc,\n",
    "    [train_base_struct],\n",
    "    testing_base_structures = [test_base_struct],\n",
    "    initial_num_of_perturbations_per_base_structure = 4, # for generating the initial training set\n",
    "    batch_num_of_perturbations_per_base_structure = 3, # how large of a pool to predict on for each loop\n",
    "    batch_size_to_add = 3, # how many structures to add to training on each loop\n",
    "    number_of_sl_loops = 4,\n",
    "    write_to_disk = False # if we want to save the history info to disk\n",
    ")"
   ]
  },
  {
   "cell_type": "markdown",
   "id": "164c2d27",
   "metadata": {},
   "source": [
    "Contained within the returned disk is multiple histories as a function of sequential learning iteration including MAE & RMSE on the validation and testing sets"
   ]
  },
  {
   "cell_type": "code",
   "execution_count": 6,
   "id": "49a10d8f",
   "metadata": {},
   "outputs": [
    {
     "name": "stdout",
     "output_type": "stream",
     "text": [
      "MAE training history: [0.6085485197361659, 0.6085485197361659, 0.6085485197361659, 0.6085485197361659]\n",
      "RMSE training history: [0.40434634537932845, 0.40434634537932845, 0.40434634537932845, 0.40434634537932845]\n",
      "\n",
      "\n",
      "MAE test history: [0.6661825694029918, 0.6661825694029918, 0.6661825694029918, 0.6661825694029918]\n",
      "RMSE test history: [0.46687185319246804, 0.46687185319246804, 0.46687185319246804, 0.46687185319246804]\n"
     ]
    }
   ],
   "source": [
    "print(f\"MAE training history: {sl_dict['mae_train_history']}\")\n",
    "print(f\"RMSE training history: {sl_dict['rmse_train_history']}\")\n",
    "print('\\n')\n",
    "print(f\"MAE test history: {sl_dict['mae_test_history']}\")\n",
    "print(f\"RMSE test history: {sl_dict['rmse_test_history']}\")"
   ]
  },
  {
   "cell_type": "markdown",
   "id": "493fde74",
   "metadata": {},
   "source": [
    "Moreover, the uncertainties of each batch that is added to the training set is also kept (note here it will be very large as the training set was kept small for easier demonstration purposes)"
   ]
  },
  {
   "cell_type": "code",
   "execution_count": 7,
   "id": "0e005797",
   "metadata": {},
   "outputs": [
    {
     "name": "stdout",
     "output_type": "stream",
     "text": [
      "Full Maximum Uncertainty History: [[1.0, 1.0, 1.0], [1.0, 1.0, 1.0], [1.0, 1.0, 1.0], [1.0, 1.0, 1.0]]\n"
     ]
    }
   ],
   "source": [
    "print(f\"Full Maximum Uncertainty History: {sl_dict['max_unc_history']}\")"
   ]
  },
  {
   "cell_type": "markdown",
   "id": "817d0951",
   "metadata": {},
   "source": [
    "For additional information about the other quantities that are tracked, we refer the reader to the documentation"
   ]
  },
  {
   "cell_type": "markdown",
   "id": "a94d5c80",
   "metadata": {},
   "source": [
    "# Running Multiple Sequential Learning Runs"
   ]
  },
  {
   "cell_type": "markdown",
   "id": "8ee96e20",
   "metadata": {},
   "source": [
    "In most cases we will want to run multiple sequential learning runs in order to remove any effects from data initialization of the first training set. Through the use of `joblib`, `AutoCat` can parallelize this process across multiple cores where each core runs a separate sl run. The example below runs 2 sequential learning runs on 2 cores (1 on each core)"
   ]
  },
  {
   "cell_type": "code",
   "execution_count": 8,
   "id": "bbf1ab53",
   "metadata": {},
   "outputs": [
    {
     "name": "stdout",
     "output_type": "stream",
     "text": [
      "Number of runs information stored: 2\n"
     ]
    }
   ],
   "source": [
    "runs_history = multiple_sequential_learning_runs(\n",
    "    acsc,\n",
    "    [train_base_struct],\n",
    "    testing_base_structures = [test_base_struct],\n",
    "    number_of_runs = 2,\n",
    "    number_parallel_jobs = 2,\n",
    "    initial_num_of_perturbations_per_base_structure = 3, # for generating the initial training set\n",
    "    batch_num_of_perturbations_per_base_structure = 3, # how large of a pool to predict on for each loop\n",
    "    batch_size_to_add = 1, # how many structures to add to training on each loop\n",
    "    number_of_sl_loops = 4,\n",
    "    write_to_disk = False # if we want to save the runs history to disk\n",
    ")\n",
    "print(f\"Number of runs information stored: {len(runs_history)}\")"
   ]
  },
  {
   "cell_type": "markdown",
   "id": "74b194b9",
   "metadata": {},
   "source": [
    "The returned list contains the sequential learning dictionary of each separate run, thus allowing for averaging of any of the quantities across runs"
   ]
  },
  {
   "cell_type": "code",
   "execution_count": null,
   "id": "6f401661",
   "metadata": {},
   "outputs": [],
   "source": []
  }
 ],
 "metadata": {
  "kernelspec": {
   "display_name": "Python 3",
   "language": "python",
   "name": "python3"
  },
  "language_info": {
   "codemirror_mode": {
    "name": "ipython",
    "version": 3
   },
   "file_extension": ".py",
   "mimetype": "text/x-python",
   "name": "python",
   "nbconvert_exporter": "python",
   "pygments_lexer": "ipython3",
   "version": "3.7.9"
  },
  "toc": {
   "base_numbering": 1,
   "nav_menu": {},
   "number_sections": true,
   "sideBar": true,
   "skip_h1_title": false,
   "title_cell": "Table of Contents",
   "title_sidebar": "Contents",
   "toc_cell": false,
   "toc_position": {},
   "toc_section_display": true,
   "toc_window_display": false
  }
 },
 "nbformat": 4,
 "nbformat_minor": 5
}
