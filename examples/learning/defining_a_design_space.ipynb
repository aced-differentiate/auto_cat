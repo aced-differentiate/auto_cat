{
 "cells": [
  {
   "cell_type": "code",
   "execution_count": 1,
   "metadata": {},
   "outputs": [],
   "source": [
    "import numpy as np\n",
    "\n",
    "from autocat.saa import generate_saa_structures\n",
    "\n",
    "from autocat.utils import extract_structures\n",
    "\n",
    "from autocat.learning.sequential import DesignSpace"
   ]
  },
  {
   "cell_type": "markdown",
   "metadata": {},
   "source": [
    "In this example we show how to define a `DesignSpace` containing single-atom alloys and corresponding labels.\n",
    "\n",
    "The data is as follows:\n",
    "\n",
    "| SAA | Label |\n",
    "| --- |  ---  |\n",
    "| Ni1/Cu111 | -0.3 |\n",
    "| Ni1/Au111 | Unknown |\n",
    "| Pd1/Cu111 | 0.2 |\n",
    "| Pd1/Au111 | -0.1 |"
   ]
  },
  {
   "cell_type": "code",
   "execution_count": 2,
   "metadata": {},
   "outputs": [],
   "source": [
    "# Create single-atom alloy structures\n",
    "saa_dictionary = generate_saa_structures(\n",
    "    host_species=[\"Cu\", \"Au\"],\n",
    "    dopant_species=[\"Ni\", \"Pd\"],\n",
    "    n_fixed_layers=2,\n",
    "    facets={\"Cu\":[\"111\"], \"Au\":[\"111\"]}\n",
    ")\n",
    "\n",
    "saa_structures = extract_structures(saa_dictionary)"
   ]
  },
  {
   "cell_type": "code",
   "execution_count": 3,
   "metadata": {},
   "outputs": [
    {
     "name": "stdout",
     "output_type": "stream",
     "text": [
      "0 Cu35Ni\n",
      "1 Cu35Pd\n",
      "2 Au35Ni\n",
      "3 Au35Pd\n"
     ]
    }
   ],
   "source": [
    "# Get indices of each structure\n",
    "for idx, struct in enumerate(saa_structures):\n",
    "    print(idx, struct.get_chemical_formula())"
   ]
  },
  {
   "cell_type": "code",
   "execution_count": 6,
   "metadata": {},
   "outputs": [],
   "source": [
    "# Generate labels in the correct ordering as per above\n",
    "                # Ni1Cu Pd1Cu Ni1Au Pd1Au\n",
    "labels = np.array([-0.3, 0.2, np.nan, -0.1])"
   ]
  },
  {
   "cell_type": "code",
   "execution_count": 7,
   "metadata": {},
   "outputs": [
    {
     "name": "stdout",
     "output_type": "stream",
     "text": [
      "+-------------------------+--------------------------+\n",
      "|                         |       DesignSpace        |\n",
      "+-------------------------+--------------------------+\n",
      "|    total # of systems   |            4             |\n",
      "| # of unlabelled systems |            1             |\n",
      "|  unique species present | ['Cu', 'Ni', 'Pd', 'Au'] |\n",
      "|      maximum label      |           0.2            |\n",
      "|      minimum label      |           -0.3           |\n",
      "+-------------------------+--------------------------+\n"
     ]
    }
   ],
   "source": [
    "# Define the design space\n",
    "saa_design_space = DesignSpace(design_space_structures=saa_structures, design_space_labels=labels)\n",
    "\n",
    "print(saa_design_space)"
   ]
  }
 ],
 "metadata": {
  "interpreter": {
   "hash": "bbcedd833a666dedd7a02add1ace8ad982a80fa78e4f715016af545a1fb42dd5"
  },
  "kernelspec": {
   "display_name": "Python 3.9.10 ('autocat39')",
   "language": "python",
   "name": "python3"
  },
  "language_info": {
   "codemirror_mode": {
    "name": "ipython",
    "version": 3
   },
   "file_extension": ".py",
   "mimetype": "text/x-python",
   "name": "python",
   "nbconvert_exporter": "python",
   "pygments_lexer": "ipython3",
   "version": "3.9.10"
  },
  "orig_nbformat": 4
 },
 "nbformat": 4,
 "nbformat_minor": 2
}
