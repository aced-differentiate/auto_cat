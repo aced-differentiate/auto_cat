{
 "cells": [
  {
   "cell_type": "code",
   "execution_count": 36,
   "id": "eaee58ba",
   "metadata": {},
   "outputs": [],
   "source": [
    "from autocat.surface import generate_surface_structures\n",
    "\n",
    "from autocat.adsorption import generate_rxn_structures\n",
    "from autocat.adsorption import generate_molecule_object\n",
    "\n",
    "from autocat.data.intermediates import ORR_INTERMEDIATE_NAMES"
   ]
  },
  {
   "cell_type": "markdown",
   "id": "f89805bd",
   "metadata": {},
   "source": [
    "In this example we show how to use `AutoCat` to generate adsorption structures given a surface structure"
   ]
  },
  {
   "cell_type": "markdown",
   "id": "69d3233d",
   "metadata": {},
   "source": [
    "# Generating Reaction Structures"
   ]
  },
  {
   "cell_type": "markdown",
   "id": "ccd545c4",
   "metadata": {},
   "source": [
    "Let's start by making a `Pt111` slab for demonstration purposes. But in general this can be any surface you'd like as long as you have it in the form of an `ase.Atoms` object or written to disk in an `ase` readable format."
   ]
  },
  {
   "cell_type": "code",
   "execution_count": 5,
   "id": "6711809e",
   "metadata": {},
   "outputs": [],
   "source": [
    "slab_dictionary = generate_surface_structures(\n",
    "    species_list = [\"Pt\"],\n",
    "    facets = {\"Pt\": [\"111\"]},\n",
    "    n_fixed_layers = 2\n",
    ")\n",
    "\n",
    "clean_slab = slab_dictionary[\"Pt\"][\"fcc111\"][\"structure\"]"
   ]
  },
  {
   "cell_type": "markdown",
   "id": "e5bc6f7e",
   "metadata": {},
   "source": [
    "Now that we have our clean slab, we can start adsorbing molecules onto the surface."
   ]
  },
  {
   "cell_type": "markdown",
   "id": "75ab5a3d",
   "metadata": {},
   "source": [
    "To fully characterize this surface for its activity toward evolving hydrogen (HER), we'd need to adsorb `H` onto every symmetry site of the surface. As the choice of `Pt111` was arbitrary, the function demo'd here works for any surface (through `pymatgen`'s implementation of Delaunay Triangulation)."
   ]
  },
  {
   "cell_type": "code",
   "execution_count": 6,
   "id": "4d48cb62",
   "metadata": {},
   "outputs": [],
   "source": [
    "h_adsorption_structure_dictionary = generate_rxn_structures(\n",
    "    clean_slab,\n",
    "    all_sym_sites = True, # to consider all identified sites\n",
    "    ads = [\"H\"],\n",
    "    height = {\"H\" : 1.5}, # manually specify height. default guess based on covalent radii of nearest neighbors\n",
    "    refs = [\"H2\"], # reference molecule for the reaction\n",
    "    write_to_disk = False\n",
    ")"
   ]
  },
  {
   "cell_type": "markdown",
   "id": "e7e1e3ce",
   "metadata": {},
   "source": [
    "This will generate a dictionary of all generated adsorption structures with the following structure:\n",
    "\n",
    "- Adsorbate Names\n",
    "    - Symmetry Site types (ie. hollow, ontop, bridge) or Custom Label\n",
    "        - `x-y` coordinate of each site\n",
    "            - `ase.Atoms` structure\n",
    "            - Path to structure file (in the `ase.traj` format)\n",
    "- references\n",
    "    - Reference Molecule Name\n",
    "        - `ase.Atoms` structure\n",
    "        - Path to structure file (in the `ase.traj` format)"
   ]
  },
  {
   "cell_type": "markdown",
   "id": "830e6d48",
   "metadata": {},
   "source": [
    "Here we have all three types of symmetry sites present"
   ]
  },
  {
   "cell_type": "code",
   "execution_count": 27,
   "id": "6afb4a44",
   "metadata": {},
   "outputs": [
    {
     "name": "stdout",
     "output_type": "stream",
     "text": [
      "dict_keys(['ontop', 'bridge', 'hollow'])\n"
     ]
    }
   ],
   "source": [
    "print(h_adsorption_structure_dictionary[\"H\"].keys())"
   ]
  },
  {
   "cell_type": "markdown",
   "id": "70b5335a",
   "metadata": {},
   "source": [
    "And we can confirm that it identified both hollow sites:"
   ]
  },
  {
   "cell_type": "code",
   "execution_count": 32,
   "id": "e846d5a8",
   "metadata": {},
   "outputs": [
    {
     "name": "stdout",
     "output_type": "stream",
     "text": [
      "dict_keys(['6.93_5.601', '9.702_4.001'])\n"
     ]
    }
   ],
   "source": [
    "print(h_adsorption_structure_dictionary[\"H\"][\"hollow\"].keys())"
   ]
  },
  {
   "cell_type": "markdown",
   "id": "5c3bc7ac",
   "metadata": {},
   "source": [
    "Instead of exhaustively considering all sites, it can be restricted to specific types via `site_type`. \n",
    "\n",
    "Or alternatively, if we want to consider only manually specified sites, that can be done via `sites`. When specifying the sites manually in this way, we need to provide them as a dictionary with keys as to how we'd like the site labelled. This is solely used for organizing the output dictionary"
   ]
  },
  {
   "cell_type": "code",
   "execution_count": 43,
   "id": "eae177e2",
   "metadata": {},
   "outputs": [],
   "source": [
    "h_manual_adsorption_structure_dictionary = generate_rxn_structures(\n",
    "    clean_slab,\n",
    "    all_sym_sites = False,\n",
    "    ads = [\"H\"],\n",
    "    sites = {\"custom\": [(0.,0.)]},\n",
    "    write_to_disk = False\n",
    ")"
   ]
  },
  {
   "cell_type": "code",
   "execution_count": 45,
   "id": "7eeddd64",
   "metadata": {},
   "outputs": [
    {
     "name": "stdout",
     "output_type": "stream",
     "text": [
      "dict_keys(['custom'])\n",
      "dict_keys(['0.0_0.0'])\n"
     ]
    }
   ],
   "source": [
    "print(h_manual_adsorption_structure_dictionary[\"H\"].keys())\n",
    "print(h_manual_adsorption_structure_dictionary[\"H\"][\"custom\"].keys())"
   ]
  },
  {
   "cell_type": "markdown",
   "id": "13e24624",
   "metadata": {},
   "source": [
    "`AutoCat` also has some defaults for generating structures for considering the Oxygen Reduction/Evolution Reaction as well as Nitrogen Reduction. These can be found within `autocat.data.intermediates`. Let's generate the ORR adsorption structures on this slab as an example."
   ]
  },
  {
   "cell_type": "code",
   "execution_count": 34,
   "id": "dd3d8ea1",
   "metadata": {},
   "outputs": [],
   "source": [
    "orr_adsorption_structure_dictionary = generate_rxn_structures(\n",
    "    clean_slab,\n",
    "    all_sym_sites = True, # to consider all identified sites (can also manually specify via `sites`)\n",
    "    ads = ORR_INTERMEDIATE_NAMES,\n",
    "    refs = [\"H2\", \"H2O\"], # reference molecules for the reaction\n",
    "    write_to_disk = False\n",
    ")"
   ]
  },
  {
   "cell_type": "markdown",
   "id": "da19d412",
   "metadata": {},
   "source": [
    "This places all of the relevant adsorbate molecules at all of the identified sites."
   ]
  },
  {
   "cell_type": "code",
   "execution_count": 35,
   "id": "78748e9b",
   "metadata": {},
   "outputs": [
    {
     "name": "stdout",
     "output_type": "stream",
     "text": [
      "dict_keys(['OOH', 'O', 'OH', 'references'])\n"
     ]
    }
   ],
   "source": [
    "print(orr_adsorption_structure_dictionary.keys())"
   ]
  },
  {
   "cell_type": "markdown",
   "id": "51561b67",
   "metadata": {},
   "source": [
    "It's important to note that if you already have the adsorbate molecule you'd like to consider as an `ase.Atoms` object, that can be supplied as well. We are going to use `autocat.adsorption.generate_molecule_object` to generate an example, but this can be anything (e.g. an `*.sdf` read by `ase.io.read`)"
   ]
  },
  {
   "cell_type": "code",
   "execution_count": 39,
   "id": "7be25d8e",
   "metadata": {},
   "outputs": [],
   "source": [
    "nh2_mol = generate_molecule_object(\"NH2\").get(\"structure\")\n",
    "\n",
    "nh2_adsorption_structure_dictionary = generate_rxn_structures(\n",
    "    clean_slab,\n",
    "    all_sym_sites = True,\n",
    "    ads = [nh2_mol],\n",
    ")"
   ]
  },
  {
   "cell_type": "code",
   "execution_count": 41,
   "id": "99a12fe8",
   "metadata": {},
   "outputs": [
    {
     "name": "stdout",
     "output_type": "stream",
     "text": [
      "dict_keys(['H2N'])\n"
     ]
    }
   ],
   "source": [
    "print(nh2_adsorption_structure_dictionary.keys())"
   ]
  }
 ],
 "metadata": {
  "kernelspec": {
   "display_name": "Python 3",
   "language": "python",
   "name": "python3"
  },
  "language_info": {
   "codemirror_mode": {
    "name": "ipython",
    "version": 3
   },
   "file_extension": ".py",
   "mimetype": "text/x-python",
   "name": "python",
   "nbconvert_exporter": "python",
   "pygments_lexer": "ipython3",
   "version": "3.7.9"
  },
  "toc": {
   "base_numbering": 1,
   "nav_menu": {},
   "number_sections": true,
   "sideBar": true,
   "skip_h1_title": false,
   "title_cell": "Table of Contents",
   "title_sidebar": "Contents",
   "toc_cell": false,
   "toc_position": {},
   "toc_section_display": true,
   "toc_window_display": false
  }
 },
 "nbformat": 4,
 "nbformat_minor": 5
}
