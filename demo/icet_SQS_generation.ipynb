{
 "cells": [
  {
   "cell_type": "markdown",
   "metadata": {},
   "source": [
    "## Generating MPEA SQS using icet"
   ]
  },
  {
   "cell_type": "code",
   "execution_count": 13,
   "metadata": {
    "tags": []
   },
   "outputs": [
    {
     "name": "stdout",
     "output_type": "stream",
     "text": [
      "Atoms(symbols='Ni', pbc=True, cell=[[0.0, 1.76, 1.76], [1.76, 0.0, 1.76], [1.76, 1.76, 0.0]])\n"
     ]
    }
   ],
   "source": [
    "# Start from a primitive lattice\n",
    "\n",
    "from ase.build import bulk\n",
    "\n",
    "prim = bulk('Ni')\n",
    "print(prim)"
   ]
  },
  {
   "cell_type": "code",
   "execution_count": 14,
   "metadata": {},
   "outputs": [],
   "source": [
    "import numpy as np\n",
    "from ase.build import make_supercell\n",
    "\n",
    "sc = make_supercell(prim, P=np.eye(3)*2)"
   ]
  },
  {
   "cell_type": "code",
   "execution_count": 15,
   "metadata": {},
   "outputs": [
    {
     "data": {
      "text/plain": [
       "<matplotlib.axes._subplots.AxesSubplot at 0x7fa64913dc10>"
      ]
     },
     "execution_count": 15,
     "metadata": {},
     "output_type": "execute_result"
    },
    {
     "data": {
      "image/png": "[encoded data removed]",
      "text/plain": [
       "<Figure size 288x288 with 1 Axes>"
      ]
     },
     "metadata": {
      "needs_background": "light"
     },
     "output_type": "display_data"
    }
   ],
   "source": [
    "import matplotlib.pyplot as plt\n",
    "from ase.visualize.plot import plot_atoms\n",
    "\n",
    "fig = plt.figure(figsize=(4, 4))\n",
    "ax = fig.add_subplot(111)\n",
    "plot_atoms(sc, ax=ax, radii=0.4)"
   ]
  },
  {
   "cell_type": "code",
   "execution_count": 16,
   "metadata": {
    "tags": []
   },
   "outputs": [
    {
     "name": "stdout",
     "output_type": "stream",
     "text": [
      "{'Ni': 0.3333333333333333, 'Co': 0.3333333333333333, 'Cr': 0.3333333333333333}\n"
     ]
    }
   ],
   "source": [
    "# MPEA target composition (harder to find SQS as `x` -> 0!)\n",
    "\n",
    "mpea_elements = ['Ni', 'Co', 'Cr']\n",
    "target_concentrations = dict([(elem, 1/len(mpea_elements)) for elem in mpea_elements])\n",
    "print(target_concentrations)"
   ]
  },
  {
   "cell_type": "code",
   "execution_count": 17,
   "metadata": {},
   "outputs": [
    {
     "name": "stdout",
     "output_type": "stream",
     "text": [
      "====================================== Cluster Space =======================================\n",
      " space group                            : Fm-3m (225)\n",
      " chemical species                       : ['Co', 'Cr', 'Ni'] (sublattice A)\n",
      " cutoffs                                : 7.2000 3.6000\n",
      " total number of parameters             : 37\n",
      " number of parameters by order          : 0= 1  1= 2  2= 24  3= 10\n",
      " fractional_position_tolerance          : 2e-06\n",
      " position_tolerance                     : 1e-05\n",
      " symprec                                : 1e-05\n",
      "--------------------------------------------------------------------------------------------\n",
      "index | order |  radius  | multiplicity | orbit_index | multi_component_vector | sublattices\n",
      "--------------------------------------------------------------------------------------------\n",
      "   0  |   0   |   0.0000 |        1     |      -1     |           .            |      .     \n",
      "   1  |   1   |   0.0000 |        1     |       0     |          [0]           |      A     \n",
      "   2  |   1   |   0.0000 |        1     |       0     |          [1]           |      A     \n",
      "   3  |   2   |   1.2445 |        6     |       1     |         [0, 0]         |     A-A    \n",
      "   4  |   2   |   1.2445 |       12     |       1     |         [0, 1]         |     A-A    \n",
      "   5  |   2   |   1.2445 |        6     |       1     |         [1, 1]         |     A-A    \n",
      "   6  |   2   |   1.7600 |        3     |       2     |         [0, 0]         |     A-A    \n",
      "   7  |   2   |   1.7600 |        6     |       2     |         [0, 1]         |     A-A    \n",
      "   8  |   2   |   1.7600 |        3     |       2     |         [1, 1]         |     A-A    \n",
      "   9  |   2   |   2.1556 |       12     |       3     |         [0, 0]         |     A-A    \n",
      "  10  |   2   |   2.1556 |       24     |       3     |         [0, 1]         |     A-A    \n",
      "  11  |   2   |   2.1556 |       12     |       3     |         [1, 1]         |     A-A    \n",
      "  12  |   2   |   2.4890 |        6     |       4     |         [0, 0]         |     A-A    \n",
      "  13  |   2   |   2.4890 |       12     |       4     |         [0, 1]         |     A-A    \n",
      "  14  |   2   |   2.4890 |        6     |       4     |         [1, 1]         |     A-A    \n",
      "  15  |   2   |   2.7828 |       12     |       5     |         [0, 0]         |     A-A    \n",
      "  16  |   2   |   2.7828 |       24     |       5     |         [0, 1]         |     A-A    \n",
      "  17  |   2   |   2.7828 |       12     |       5     |         [1, 1]         |     A-A    \n",
      "  18  |   2   |   3.0484 |        4     |       6     |         [0, 0]         |     A-A    \n",
      "  19  |   2   |   3.0484 |        8     |       6     |         [0, 1]         |     A-A    \n",
      "  20  |   2   |   3.0484 |        4     |       6     |         [1, 1]         |     A-A    \n",
      "  21  |   2   |   3.2927 |       24     |       7     |         [0, 0]         |     A-A    \n",
      "  22  |   2   |   3.2927 |       48     |       7     |         [0, 1]         |     A-A    \n",
      "  23  |   2   |   3.2927 |       24     |       7     |         [1, 1]         |     A-A    \n",
      "  24  |   2   |   3.5200 |        3     |       8     |         [0, 0]         |     A-A    \n",
      "  25  |   2   |   3.5200 |        6     |       8     |         [0, 1]         |     A-A    \n",
      "  26  |   2   |   3.5200 |        3     |       8     |         [1, 1]         |     A-A    \n",
      "  27  |   3   |   1.4370 |        8     |       9     |       [0, 0, 0]        |    A-A-A   \n",
      "  28  |   3   |   1.4370 |       24     |       9     |       [0, 0, 1]        |    A-A-A   \n",
      "  29  |   3   |   1.4370 |       24     |       9     |       [0, 1, 1]        |    A-A-A   \n",
      "  30  |   3   |   1.4370 |        8     |       9     |       [1, 1, 1]        |    A-A-A   \n",
      "  31  |   3   |   1.6279 |       12     |      10     |       [0, 0, 0]        |    A-A-A   \n",
      "  32  |   3   |   1.6279 |       24     |      10     |       [0, 0, 1]        |    A-A-A   \n",
      "  33  |   3   |   1.6279 |       12     |      10     |       [0, 1, 0]        |    A-A-A   \n",
      "  34  |   3   |   1.6279 |       24     |      10     |       [0, 1, 1]        |    A-A-A   \n",
      "  35  |   3   |   1.6279 |       12     |      10     |       [1, 0, 1]        |    A-A-A   \n",
      "  36  |   3   |   1.6279 |       12     |      10     |       [1, 1, 1]        |    A-A-A   \n",
      "============================================================================================\n"
     ]
    }
   ],
   "source": [
    "# Set up the `icet.ClusterSpace` object\n",
    "# Ångqvist, Mattias, et al. \"icet–A Python library for constructing and sampling alloy cluster expansions.\"\n",
    "# Advanced Theory and Simulations 2.7 (2019): 1900015. doi: https://doi.org/10.1002/adts.201900015\n",
    "\n",
    "from icet import ClusterSpace\n",
    "\n",
    "cs = ClusterSpace(\n",
    "    structure=prim,                  # underlying lattice sites\n",
    "    cutoffs=[7.2, 3.6],              # cutoffs to generate clusters (used to calculate correlations)\n",
    "    chemical_symbols=mpea_elements,  # elements to mix on the lattice (nested lists for sublattices)\n",
    ")\n",
    "print(cs)"
   ]
  },
  {
   "cell_type": "code",
   "execution_count": 18,
   "metadata": {},
   "outputs": [],
   "source": [
    "# Size of the supercell to generate (larger better but compute cost tradeoffs)\n",
    "# NB: Number of sites available in supercell should be commensurate with composition\n",
    "\n",
    "max_atoms_in_sc = 9"
   ]
  },
  {
   "cell_type": "code",
   "execution_count": 20,
   "metadata": {},
   "outputs": [],
   "source": [
    "# Generate SQS!\n",
    "# For smaller supercells (<10-20 atoms), finding SQS by enumeration is usually faster\n",
    "\n",
    "from icet.tools.structure_generation import generate_sqs_by_enumeration\n",
    "\n",
    "sqs_enum = generate_sqs_by_enumeration(\n",
    "    cluster_space=cs,\n",
    "    include_smaller_cells=False,\n",
    "    max_size=max_atoms_in_sc,\n",
    "    target_concentrations=target_concentrations,\n",
    ")"
   ]
  },
  {
   "cell_type": "code",
   "execution_count": 21,
   "metadata": {},
   "outputs": [
    {
     "name": "stdout",
     "output_type": "stream",
     "text": [
      "Cluster vector of generated structure: [ 1.00000000e+00  7.40148683e-17 -1.48029737e-16 -4.11193713e-18\n",
      "  0.00000000e+00  1.64477485e-17 -4.11193713e-18  0.00000000e+00\n",
      "  1.64477485e-17 -6.25000000e-02 -1.64477485e-17 -6.25000000e-02\n",
      " -4.11193713e-18  0.00000000e+00  1.64477485e-17 -4.11193713e-18\n",
      "  0.00000000e+00  1.64477485e-17 -6.25000000e-02 -2.46716228e-17\n",
      " -6.25000000e-02 -4.11193713e-18  0.00000000e+00  1.64477485e-17\n",
      " -4.11193713e-18  0.00000000e+00  1.64477485e-17  3.12500000e-02\n",
      " -2.00456935e-17 -3.12500000e-02  1.23358114e-17  2.05596856e-18\n",
      " -2.05596856e-18  6.16790569e-18 -4.11193713e-18 -6.16790569e-18\n",
      " -4.11193713e-18]\n"
     ]
    },
    {
     "data": {
      "image/png": "[encoded data removed]",
      "text/plain": [
       "<Figure size 288x288 with 1 Axes>"
      ]
     },
     "metadata": {
      "needs_background": "light"
     },
     "output_type": "display_data"
    }
   ],
   "source": [
    "fig = plt.figure(figsize=(4, 4))\n",
    "ax = fig.add_subplot(111)\n",
    "plot_atoms(sqs_enum, ax=ax, radii=0.4)\n",
    "print(f'Cluster vector of generated structure: {cs.get_cluster_vector(sqs_enum)}')"
   ]
  },
  {
   "cell_type": "code",
   "execution_count": 22,
   "metadata": {},
   "outputs": [],
   "source": [
    "# The default algo uses simulated annealing, optimizing a \"close-to-random\" fitness function\n",
    "# Van de Walle, A., et al. \"Efficient stochastic generation of special quasirandom structures.\"\n",
    "# Calphad 42 (2013): 13-18. doi: https://doi.org/10.1016/j.calphad.2013.06.006\n",
    "\n",
    "from icet.tools.structure_generation import generate_sqs\n",
    "\n",
    "sqs = generate_sqs(\n",
    "    cluster_space=cs,\n",
    "    include_smaller_cells=False,\n",
    "    max_size=max_atoms_in_sc,\n",
    "    target_concentrations=target_concentrations,\n",
    ")"
   ]
  },
  {
   "cell_type": "code",
   "execution_count": 23,
   "metadata": {},
   "outputs": [
    {
     "name": "stdout",
     "output_type": "stream",
     "text": [
      "Cluster vector of generated structure: [ 1.00000000e+00  7.40148683e-17 -1.48029737e-16 -4.11193713e-18\n",
      "  0.00000000e+00  1.64477485e-17 -4.11193713e-18  0.00000000e+00\n",
      "  1.64477485e-17 -6.25000000e-02 -2.05596856e-17 -6.25000000e-02\n",
      " -4.11193713e-18  0.00000000e+00  1.64477485e-17 -4.11193713e-18\n",
      "  0.00000000e+00  1.64477485e-17 -6.25000000e-02 -6.16790569e-18\n",
      " -6.25000000e-02 -4.11193713e-18  0.00000000e+00  1.64477485e-17\n",
      " -4.11193713e-18  0.00000000e+00  1.64477485e-17  3.12500000e-02\n",
      " -2.00456935e-17 -3.12500000e-02  9.25185854e-18  2.05596856e-18\n",
      "  0.00000000e+00  5.13992141e-18  0.00000000e+00 -6.16790569e-18\n",
      "  4.11193713e-18]\n"
     ]
    },
    {
     "data": {
      "image/png": "[encoded data removed]",
      "text/plain": [
       "<Figure size 288x288 with 1 Axes>"
      ]
     },
     "metadata": {
      "needs_background": "light"
     },
     "output_type": "display_data"
    }
   ],
   "source": [
    "fig = plt.figure(figsize=(4, 4))\n",
    "ax = fig.add_subplot(111)\n",
    "plot_atoms(sqs, ax=ax, radii=0.4)\n",
    "print(f'Cluster vector of generated structure: {cs.get_cluster_vector(sqs)}')"
   ]
  },
  {
   "cell_type": "code",
   "execution_count": null,
   "metadata": {},
   "outputs": [],
   "source": []
  }
 ],
 "metadata": {
  "kernelspec": {
   "display_name": "Python 3.7.4 64-bit ('icet': conda)",
   "language": "python",
   "name": "python37464biticetcondaf8373cdc28a2453282befbd1c22e4a48"
  },
  "language_info": {
   "codemirror_mode": {
    "name": "ipython",
    "version": 3
   },
   "file_extension": ".py",
   "mimetype": "text/x-python",
   "name": "python",
   "nbconvert_exporter": "python",
   "pygments_lexer": "ipython3",
   "version": "3.7.4"
  }
 },
 "nbformat": 4,
 "nbformat_minor": 2
}
